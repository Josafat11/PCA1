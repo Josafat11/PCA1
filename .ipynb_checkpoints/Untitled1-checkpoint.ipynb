{
 "cells": [
  {
   "cell_type": "code",
   "execution_count": 67,
   "id": "e83b2f72-720f-43f5-bb76-50bb363cc151",
   "metadata": {},
   "outputs": [
    {
     "name": "stdout",
     "output_type": "stream",
     "text": [
      "Mejores parámetros: {'knn__n_neighbors': 10, 'knn__p': 2, 'knn__weights': 'uniform', 'pca__n_components': 0.95}\n",
      "Accuracy: 78.77%\n"
     ]
    }
   ],
   "source": [
    "# Versión optimizada basada en tu mejor modelo\n",
    "import pandas as pd\n",
    "import numpy as np\n",
    "from sklearn.neighbors import KNeighborsClassifier\n",
    "from sklearn.decomposition import PCA\n",
    "from sklearn.preprocessing import StandardScaler\n",
    "from sklearn.model_selection import train_test_split, GridSearchCV\n",
    "from sklearn.metrics import accuracy_score\n",
    "from sklearn.pipeline import Pipeline\n",
    "\n",
    "# Cargar y preparar datos (similar a tu mejor versión)\n",
    "df = pd.read_csv('./titanic_train.csv')\n",
    "df.drop(columns=['PassengerId', 'Name', 'Ticket'], inplace=True)\n",
    "\n",
    "# Preprocesamiento (manteniendo lo que funciona)\n",
    "df['Embarked'] = df['Embarked'].fillna(df['Embarked'].mode()[0])\n",
    "df['Cabin'] = df['Cabin'].fillna('Unknown').str[0]\n",
    "df['Deck'] = OrdinalEncoder(categories=[[\"A\", \"B\", \"C\", \"D\", \"E\", \"F\", \"G\", \"T\", \"U\"]]).fit_transform(df[['Cabin']])\n",
    "df['Sex_male'] = OneHotEncoder(drop='first', sparse_output=False).fit_transform(df[['Sex']])\n",
    "df['Embarked'] = OrdinalEncoder(categories=[['S', 'C', 'Q']]).fit_transform(df[['Embarked']])\n",
    "\n",
    "# Imputación de edad mejorada\n",
    "age_features = ['Pclass', 'SibSp', 'Parch', 'Fare', 'Sex_male', 'Embarked', 'Deck']\n",
    "known_age = df[df['Age'].notnull()]\n",
    "unknown_age = df[df['Age'].isnull()]\n",
    "\n",
    "from sklearn.ensemble import GradientBoostingRegressor\n",
    "age_model = GradientBoostingRegressor(random_state=42)\n",
    "age_model.fit(known_age[age_features], known_age['Age'])\n",
    "df.loc[df['Age'].isnull(), 'Age'] = age_model.predict(unknown_age[age_features])\n",
    "\n",
    "# Feature selection (basado en importancia)\n",
    "features = ['Sex_male', 'Age', 'Fare', 'Pclass', 'Deck', 'SibSp', 'Parch']\n",
    "X = df[features]\n",
    "y = df['Survived']\n",
    "\n",
    "# Pipeline optimizado\n",
    "pipeline = Pipeline([\n",
    "    ('scaler', StandardScaler()),\n",
    "    ('pca', PCA(n_components=0.95)),\n",
    "    ('knn', KNeighborsClassifier())\n",
    "])\n",
    "\n",
    "# Búsqueda de mejores parámetros\n",
    "param_grid = {\n",
    "    'pca__n_components': [0.85, 0.90, 0.95],\n",
    "    'knn__n_neighbors': range(5, 15),\n",
    "    'knn__weights': ['uniform', 'distance'],\n",
    "    'knn__p': [1, 2]  # 1: manhattan, 2: euclidean\n",
    "}\n",
    "\n",
    "X_train, X_test, y_train, y_test = train_test_split(\n",
    "    X, y, test_size=0.2, random_state=42, stratify=y\n",
    ")\n",
    "\n",
    "grid_search = GridSearchCV(pipeline, param_grid, cv=5, scoring='accuracy', n_jobs=-1)\n",
    "grid_search.fit(X_train, y_train)\n",
    "\n",
    "# Mejor modelo\n",
    "best_model = grid_search.best_estimator_\n",
    "y_pred = best_model.predict(X_test)\n",
    "accuracy = accuracy_score(y_test, y_pred)\n",
    "\n",
    "print(f\"Mejores parámetros: {grid_search.best_params_}\")\n",
    "print(f\"Accuracy: {accuracy*100:.2f}%\")"
   ]
  },
  {
   "cell_type": "code",
   "execution_count": null,
   "id": "0c6dfb19-744d-492d-b5a3-c2da48b5001c",
   "metadata": {},
   "outputs": [],
   "source": []
  }
 ],
 "metadata": {
  "kernelspec": {
   "display_name": "Python [conda env:base] *",
   "language": "python",
   "name": "conda-base-py"
  },
  "language_info": {
   "codemirror_mode": {
    "name": "ipython",
    "version": 3
   },
   "file_extension": ".py",
   "mimetype": "text/x-python",
   "name": "python",
   "nbconvert_exporter": "python",
   "pygments_lexer": "ipython3",
   "version": "3.12.7"
  }
 },
 "nbformat": 4,
 "nbformat_minor": 5
}
