{
 "cells": [
  {
   "cell_type": "markdown",
   "id": "c1c8e3a4-f67d-453f-afa2-141d6d355e59",
   "metadata": {},
   "source": [
    " # ****importacion****"
   ]
  },
  {
   "cell_type": "code",
   "execution_count": 1,
   "id": "815586cf-fe17-4431-bcd7-8528fce3c30a",
   "metadata": {},
   "outputs": [],
   "source": [
    "import pandas as pd\n",
    "import numpy as np\n",
    "import joblib\n",
    "\n",
    "from xgboost import XGBRegressor, XGBClassifier\n",
    "from sklearn.impute import SimpleImputer\n",
    "from sklearn.preprocessing import OrdinalEncoder, OneHotEncoder, StandardScaler\n",
    "from sklearn.model_selection import train_test_split, RandomizedSearchCV\n",
    "from sklearn.metrics import accuracy_score\n",
    "from scipy.stats import randint, uniform"
   ]
  },
  {
   "cell_type": "markdown",
   "id": "30bddfe2-8a0c-4d5f-a047-19c483fb6130",
   "metadata": {},
   "source": [
    "#### Carga de datos"
   ]
  },
  {
   "cell_type": "code",
   "execution_count": 2,
   "id": "ac822102-cf1a-4233-ac2f-009c8bcee5e8",
   "metadata": {},
   "outputs": [],
   "source": [
    "# Cargar datos\n",
    "df = pd.read_csv('titanic_train.csv')\n",
    "\n",
    "# Preprocesamiento inicial\n",
    "df.drop(columns=['PassengerId', 'Name', 'Ticket'], inplace=True)"
   ]
  },
  {
   "cell_type": "code",
   "execution_count": 3,
   "id": "66d5974a-1f04-4908-81ed-1ee501c202fd",
   "metadata": {},
   "outputs": [],
   "source": [
    "# Imputaciones\n",
    "df[['Embarked']] = SimpleImputer(strategy='most_frequent').fit_transform(df[['Embarked']])\n",
    "df[['Cabin']] = SimpleImputer(strategy='constant', fill_value='Unknown').fit_transform(df[['Cabin']])\n",
    "df['Deck'] = df['Cabin'].str[0]"
   ]
  },
  {
   "cell_type": "code",
   "execution_count": 4,
   "id": "a58ddcfb-a266-4596-ac8d-ef75f6a80a84",
   "metadata": {},
   "outputs": [],
   "source": [
    "# Codificaciones\n",
    "df[['Embarked']] = OrdinalEncoder(categories=[['S', 'C', 'Q']]).fit_transform(df[['Embarked']])\n",
    "df[['Deck']] = OrdinalEncoder(categories=[[\"A\", \"B\", \"C\", \"D\", \"E\", \"F\", \"G\", \"T\", \"U\"]]).fit_transform(df[['Deck']])\n",
    "\n",
    "# Codificación one-hot para 'Sex'\n",
    "sex_encoder = OneHotEncoder(drop='first', sparse_output=False)\n",
    "df['Sex_male'] = sex_encoder.fit_transform(df[['Sex']])"
   ]
  },
  {
   "cell_type": "code",
   "execution_count": 5,
   "id": "d8ae08d9-59c2-4332-8185-06fd0d2ad019",
   "metadata": {},
   "outputs": [],
   "source": [
    "# Feature de tamaño de familia\n",
    "df['FamilySize'] = df['SibSp'] + df['Parch'] + 1"
   ]
  },
  {
   "cell_type": "code",
   "execution_count": 6,
   "id": "67a43db9-4cf8-4e25-b5f6-f9012af3fd10",
   "metadata": {},
   "outputs": [],
   "source": [
    "# Imputar edad con XGBRegressor\n",
    "features_age = ['Fare', 'Parch', 'Pclass', 'SibSp', 'Deck', 'FamilySize', 'Sex_male', 'Embarked']\n",
    "df_known_age = df[df['Age'].notnull()]\n",
    "df_unknown_age = df[df['Age'].isnull()]\n",
    "\n",
    "X_age_train = df_known_age[features_age]\n",
    "y_age_train = df_known_age['Age']\n",
    "X_age_pred = df_unknown_age[features_age]\n",
    "\n",
    "xgb_reg = XGBRegressor(random_state=42, n_estimators=100)\n",
    "xgb_reg.fit(X_age_train, y_age_train)\n",
    "df.loc[df['Age'].isnull(), 'Age'] = xgb_reg.predict(X_age_pred)"
   ]
  },
  {
   "cell_type": "code",
   "execution_count": 7,
   "id": "9e30b3ee-43bb-427e-a4ef-9573d2380a14",
   "metadata": {},
   "outputs": [],
   "source": [
    "# Clasificación\n",
    "features_classification = ['Pclass', 'Age', 'SibSp', 'Parch', 'Fare', 'Embarked', 'Sex_male', 'Deck', 'FamilySize']\n",
    "X = df[features_classification]\n",
    "y = df['Survived']"
   ]
  },
  {
   "cell_type": "code",
   "execution_count": 8,
   "id": "6296db8f-b160-4843-9d98-5f4d1d033fa8",
   "metadata": {},
   "outputs": [
    {
     "name": "stderr",
     "output_type": "stream",
     "text": [
      "C:\\Users\\jose1\\AppData\\Local\\Temp\\ipykernel_8528\\129214926.py:4: SettingWithCopyWarning: \n",
      "A value is trying to be set on a copy of a slice from a DataFrame.\n",
      "Try using .loc[row_indexer,col_indexer] = value instead\n",
      "\n",
      "See the caveats in the documentation: https://pandas.pydata.org/pandas-docs/stable/user_guide/indexing.html#returning-a-view-versus-a-copy\n",
      "  X[num_features] = scaler.fit_transform(X[num_features])\n"
     ]
    }
   ],
   "source": [
    "# Escalar variables numéricas\n",
    "scaler = StandardScaler()\n",
    "num_features = ['Pclass', 'Age', 'SibSp', 'Parch', 'Fare', 'FamilySize']\n",
    "X[num_features] = scaler.fit_transform(X[num_features])"
   ]
  },
  {
   "cell_type": "code",
   "execution_count": 9,
   "id": "9b0e402e-d76e-48e2-904f-071c8f6e73d9",
   "metadata": {},
   "outputs": [
    {
     "name": "stdout",
     "output_type": "stream",
     "text": [
      "Fitting 5 folds for each of 100 candidates, totalling 500 fits\n"
     ]
    },
    {
     "name": "stderr",
     "output_type": "stream",
     "text": [
      "C:\\Users\\jose1\\anaconda3\\Lib\\site-packages\\xgboost\\training.py:183: UserWarning: [12:00:20] WARNING: C:\\actions-runner\\_work\\xgboost\\xgboost\\src\\learner.cc:738: \n",
      "Parameters: { \"use_label_encoder\" } are not used.\n",
      "\n",
      "  bst.update(dtrain, iteration=i, fobj=obj)\n"
     ]
    },
    {
     "name": "stdout",
     "output_type": "stream",
     "text": [
      "Mejores parámetros encontrados:\n",
      "{'colsample_bytree': 0.8191887532992349, 'learning_rate': 0.09469418846162371, 'max_depth': 10, 'min_child_weight': 5.03417369633632, 'n_estimators': 276, 'subsample': 0.892659102119856}\n",
      "Mejor Accuracy CV: 84.96%\n"
     ]
    }
   ],
   "source": [
    "# Hiperparámetros para RandomizedSearchCV\n",
    "param_distributions = {\n",
    "    'n_estimators': randint(100, 400),\n",
    "    'max_depth': randint(3, 15),\n",
    "    'min_child_weight': uniform(1, 5),\n",
    "    'subsample': uniform(0.6, 0.4),\n",
    "    'colsample_bytree': uniform(0.6, 0.4),\n",
    "    'learning_rate': uniform(0.01, 0.2),\n",
    "}\n",
    "\n",
    "xgb_clf = XGBClassifier(\n",
    "    random_state=42,\n",
    "    use_label_encoder=False,\n",
    "    eval_metric='logloss'\n",
    ")\n",
    "\n",
    "random_search = RandomizedSearchCV(\n",
    "    estimator=xgb_clf,\n",
    "    param_distributions=param_distributions,\n",
    "    n_iter=100,\n",
    "    scoring='accuracy',\n",
    "    cv=5,\n",
    "    verbose=1,\n",
    "    n_jobs=-1,\n",
    "    random_state=42\n",
    ")\n",
    "\n",
    "random_search.fit(X, y)\n",
    "\n",
    "print(\"Mejores parámetros encontrados:\")\n",
    "print(random_search.best_params_)\n",
    "print(f\"Mejor Accuracy CV: {random_search.best_score_ * 100:.2f}%\")"
   ]
  },
  {
   "cell_type": "code",
   "execution_count": 10,
   "id": "9797990f-e578-4c07-a814-ef9a052f1f3a",
   "metadata": {},
   "outputs": [
    {
     "data": {
      "text/plain": [
       "['sex_encoder.pkl']"
      ]
     },
     "execution_count": 10,
     "metadata": {},
     "output_type": "execute_result"
    }
   ],
   "source": [
    "# Guardar modelo, scaler y encoder\n",
    "joblib.dump(random_search.best_estimator_, 'xgb_titanic_model.pkl')\n",
    "joblib.dump(scaler, 'scaler.pkl')\n",
    "joblib.dump(sex_encoder, 'sex_encoder.pkl')"
   ]
  },
  {
   "cell_type": "code",
   "execution_count": null,
   "id": "05037a8b-2c30-4f55-bc4a-dbb461165e54",
   "metadata": {},
   "outputs": [],
   "source": []
  }
 ],
 "metadata": {
  "kernelspec": {
   "display_name": "Python [conda env:base] *",
   "language": "python",
   "name": "conda-base-py"
  },
  "language_info": {
   "codemirror_mode": {
    "name": "ipython",
    "version": 3
   },
   "file_extension": ".py",
   "mimetype": "text/x-python",
   "name": "python",
   "nbconvert_exporter": "python",
   "pygments_lexer": "ipython3",
   "version": "3.12.7"
  }
 },
 "nbformat": 4,
 "nbformat_minor": 5
}
